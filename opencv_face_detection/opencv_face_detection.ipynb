{
 "cells": [
  {
   "cell_type": "markdown",
   "id": "5abc54fd",
   "metadata": {},
   "source": [
    "# OpenCV Face Detection\n",
    "\n",
    "This script uses OpenCV's Haar Cascade Classifier to detect faces in real-time through a webcam feed.  \n",
    "The program captures video from the webcam, converts the frames to grayscale, and detects faces using the pre-trained Haar Cascade model.  \n",
    "Each detected face is highlighted with a green rectangle.\n",
    "\n",
    "## How it works:\n",
    "- Captures frames from the webcam.\n",
    "- Converts each frame to grayscale (required for face detection).\n",
    "- Detects faces using Haar Cascade Classifier.\n",
    "- Draws a rectangle around the detected faces.\n",
    "- Displays the processed frame in real-time.\n",
    "\n",
    "Press 'q' to exit the webcam feed."
   ]
  },
  {
   "cell_type": "markdown",
   "id": "d70537bc-7c96-4aeb-8b15-9f52f13edf9f",
   "metadata": {},
   "source": [
    "## Kütüphaneleri İçeri Aktar"
   ]
  },
  {
   "cell_type": "code",
   "execution_count": 1,
   "id": "4dcfcda6-fa6d-4ea5-ab0a-ce03c6880acf",
   "metadata": {},
   "outputs": [],
   "source": [
    "import cv2\n",
    "import numpy as np\n",
    "import matplotlib.pyplot as plt"
   ]
  },
  {
   "cell_type": "markdown",
   "id": "d1860bc4-2e81-472c-bdff-0fd4647c228c",
   "metadata": {},
   "source": [
    "## Haar Cascade Modelini İndir ve Yükle"
   ]
  },
  {
   "cell_type": "code",
   "execution_count": 2,
   "id": "882b5030-6c61-4d2b-9cff-28cf45c4acae",
   "metadata": {},
   "outputs": [],
   "source": [
    "# Load pre-trained face detection model from OpenCV\n",
    "# This model uses Haar Cascade Classifier for detecting faces\n",
    "face_cascade = cv2.CascadeClassifier(cv2.data.haarcascades + \"haarcascade_frontalface_default.xml\")"
   ]
  },
  {
   "cell_type": "markdown",
   "id": "58922c41-d203-4d0d-b40d-b45354ef3c45",
   "metadata": {},
   "source": [
    "## Görüntü Yükleme ve Gri tona Çevirme"
   ]
  },
  {
   "cell_type": "code",
   "execution_count": 3,
   "id": "2baa6e04-d486-4374-af2b-a9c6be692d7b",
   "metadata": {},
   "outputs": [
    {
     "ename": "error",
     "evalue": "OpenCV(4.9.0) D:\\a\\opencv-python\\opencv-python\\opencv\\modules\\imgproc\\src\\color.cpp:196: error: (-215:Assertion failed) !_src.empty() in function 'cv::cvtColor'\n",
     "output_type": "error",
     "traceback": [
      "\u001b[1;31m---------------------------------------------------------------------------\u001b[0m",
      "\u001b[1;31merror\u001b[0m                                     Traceback (most recent call last)",
      "Cell \u001b[1;32mIn[3], line 6\u001b[0m\n\u001b[0;32m      3\u001b[0m img \u001b[38;5;241m=\u001b[39m cv2\u001b[38;5;241m.\u001b[39mimread(image_path)\n\u001b[0;32m      5\u001b[0m \u001b[38;5;66;03m# Görüntüyü gri tonlamaya çevir\u001b[39;00m\n\u001b[1;32m----> 6\u001b[0m gray \u001b[38;5;241m=\u001b[39m cv2\u001b[38;5;241m.\u001b[39mcvtColor(img, cv2\u001b[38;5;241m.\u001b[39mCOLOR_BGR2GRAY)\n\u001b[0;32m      8\u001b[0m \u001b[38;5;66;03m# Görüntüyü göster\u001b[39;00m\n\u001b[0;32m      9\u001b[0m plt\u001b[38;5;241m.\u001b[39mimshow(cv2\u001b[38;5;241m.\u001b[39mcvtColor(gray, cv2\u001b[38;5;241m.\u001b[39mCOLOR_GRAY2RGB))\n",
      "\u001b[1;31merror\u001b[0m: OpenCV(4.9.0) D:\\a\\opencv-python\\opencv-python\\opencv\\modules\\imgproc\\src\\color.cpp:196: error: (-215:Assertion failed) !_src.empty() in function 'cv::cvtColor'\n"
     ]
    }
   ],
   "source": [
    "# Kullanacağın resmi yükle (dosya adını değiştir)\n",
    "image_path = \"face_image.jpg\"  # Buraya yüz tespit etmek istediğin görüntünün adını yaz\n",
    "img = cv2.imread(image_path)\n",
    "\n",
    "# Görüntüyü gri tonlamaya çevir\n",
    "gray = cv2.cvtColor(img, cv2.COLOR_BGR2GRAY)\n",
    "\n",
    "# Görüntüyü göster\n",
    "plt.imshow(cv2.cvtColor(gray, cv2.COLOR_GRAY2RGB))\n",
    "plt.axis(\"off\")\n",
    "plt.show()"
   ]
  },
  {
   "cell_type": "markdown",
   "id": "cf0320a9-82d0-42b5-97c4-d23f85ee4f0a",
   "metadata": {},
   "source": [
    "### Yüz Algılama"
   ]
  },
  {
   "cell_type": "code",
   "execution_count": null,
   "id": "92320fc1-a28b-46a9-9205-7db03699cdc9",
   "metadata": {},
   "outputs": [],
   "source": [
    "# Yüzleri tespit et\n",
    "faces = face_cascade.detectMultiScale(gray, scaleFactor=1.1, minNeighbors=5, minSize=(30, 30))\n",
    "\n",
    "# Bulunan yüzleri kare içine al\n",
    "for (x, y, w, h) in faces:\n",
    "    cv2.rectangle(img, (x, y), (x + w, y + h), (255, 0, 0), 3)\n",
    "\n",
    "# Sonuçları göster\n",
    "plt.imshow(cv2.cvtColor(img, cv2.COLOR_BGR2RGB))\n",
    "plt.axis(\"off\")\n",
    "plt.show()"
   ]
  },
  {
   "cell_type": "code",
   "execution_count": null,
   "id": "d7a1dae0-c12c-4868-a26f-2deb816e0c50",
   "metadata": {},
   "outputs": [],
   "source": []
  },
  {
   "cell_type": "markdown",
   "id": "9d094a0d-ab5b-4dd9-8778-7fa61e474cd5",
   "metadata": {},
   "source": [
    "## Kameradan Gerçek Zamanlı"
   ]
  },
  {
   "cell_type": "code",
   "execution_count": null,
   "id": "68d1f9f5-6196-4a35-ac23-afb4c22d3d00",
   "metadata": {},
   "outputs": [],
   "source": [
    "cap = cv2.VideoCapture(0)  # Bilgisayarın kamerasını aç\n",
    "\n",
    "while True:\n",
    "    ret, frame = cap.read()\n",
    "    if not ret:\n",
    "        break\n",
    "\n",
    "    gray = cv2.cvtColor(frame, cv2.COLOR_BGR2GRAY)\n",
    "    faces = face_cascade.detectMultiScale(gray, scaleFactor=1.1, minNeighbors=5, minSize=(30, 30))\n",
    "\n",
    "    for (x, y, w, h) in faces:\n",
    "        cv2.rectangle(frame, (x, y), (x + w, y + h), (255, 0, 0), 3)\n",
    "\n",
    "    cv2.imshow(\"Face Detection\", frame)\n",
    "\n",
    "    if cv2.waitKey(1) & 0xFF == ord(\"q\"):  # Break the loop if the user presses the 'q' key\n",
    "        break\n",
    "\n",
    "# Release the capture object and close all OpenCV windows\n",
    "cap.release()\n",
    "cv2.destroyAllWindows()\n"
   ]
  },
  {
   "cell_type": "code",
   "execution_count": null,
   "id": "da42bed4-7f7a-4e16-8bb0-68b5a05f8113",
   "metadata": {},
   "outputs": [],
   "source": []
  },
  {
   "cell_type": "code",
   "execution_count": null,
   "id": "0ba89797-2c4b-42bf-82ff-41e2738f26f0",
   "metadata": {},
   "outputs": [],
   "source": []
  },
  {
   "cell_type": "code",
   "execution_count": null,
   "id": "2d274503-85c8-46ae-a28b-73c42745bea2",
   "metadata": {},
   "outputs": [],
   "source": []
  },
  {
   "cell_type": "code",
   "execution_count": null,
   "id": "4d61f5a8-0a9a-45ea-b76b-fd17166fa112",
   "metadata": {},
   "outputs": [],
   "source": []
  },
  {
   "cell_type": "code",
   "execution_count": null,
   "id": "52cfa46f-182c-4279-b67c-9db840f73149",
   "metadata": {},
   "outputs": [],
   "source": []
  }
 ],
 "metadata": {
  "kernelspec": {
   "display_name": "Python 3.11 (py311)",
   "language": "python",
   "name": "py311"
  },
  "language_info": {
   "codemirror_mode": {
    "name": "ipython",
    "version": 3
   },
   "file_extension": ".py",
   "mimetype": "text/x-python",
   "name": "python",
   "nbconvert_exporter": "python",
   "pygments_lexer": "ipython3",
   "version": "3.11.11"
  }
 },
 "nbformat": 4,
 "nbformat_minor": 5
}
